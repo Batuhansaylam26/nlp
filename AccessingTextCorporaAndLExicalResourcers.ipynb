{
 "cells": [
  {
   "cell_type": "code",
   "id": "initial_id",
   "metadata": {
    "collapsed": true,
    "ExecuteTime": {
     "end_time": "2024-09-23T23:55:37.260920Z",
     "start_time": "2024-09-23T23:55:30.949983Z"
    }
   },
   "source": [
    "from nltk.book import *\n"
   ],
   "outputs": [
    {
     "name": "stdout",
     "output_type": "stream",
     "text": [
      "*** Introductory Examples for the NLTK Book ***\n",
      "Loading text1, ..., text9 and sent1, ..., sent9\n",
      "Type the name of the text or sentence to view it.\n",
      "Type: 'texts()' or 'sents()' to list the materials.\n",
      "text1: Moby Dick by Herman Melville 1851\n",
      "text2: Sense and Sensibility by Jane Austen 1811\n",
      "text3: The Book of Genesis\n",
      "text4: Inaugural Address Corpus\n",
      "text5: Chat Corpus\n",
      "text6: Monty Python and the Holy Grail\n",
      "text7: Wall Street Journal\n",
      "text8: Personals Corpus\n",
      "text9: The Man Who Was Thursday by G . K . Chesterton 1908\n"
     ]
    }
   ],
   "execution_count": 1
  },
  {
   "cell_type": "markdown",
   "id": "21db4516a604d557",
   "metadata": {},
   "source": [
    "2.1 Accessing Text Corpora"
   ]
  },
  {
   "cell_type": "markdown",
   "id": "76ec2d1c043c3938",
   "metadata": {},
   "source": [
    "Gutenberg Corpus"
   ]
  },
  {
   "cell_type": "code",
   "id": "a776dc6c2d1a802d",
   "metadata": {
    "ExecuteTime": {
     "end_time": "2024-09-23T23:55:44.546262Z",
     "start_time": "2024-09-23T23:55:44.535150Z"
    }
   },
   "source": [
    "import nltk\n",
    "nltk.corpus.gutenberg.fileids()"
   ],
   "outputs": [
    {
     "data": {
      "text/plain": [
       "['austen-emma.txt',\n",
       " 'austen-persuasion.txt',\n",
       " 'austen-sense.txt',\n",
       " 'bible-kjv.txt',\n",
       " 'blake-poems.txt',\n",
       " 'bryant-stories.txt',\n",
       " 'burgess-busterbrown.txt',\n",
       " 'carroll-alice.txt',\n",
       " 'chesterton-ball.txt',\n",
       " 'chesterton-brown.txt',\n",
       " 'chesterton-thursday.txt',\n",
       " 'edgeworth-parents.txt',\n",
       " 'melville-moby_dick.txt',\n",
       " 'milton-paradise.txt',\n",
       " 'shakespeare-caesar.txt',\n",
       " 'shakespeare-hamlet.txt',\n",
       " 'shakespeare-macbeth.txt',\n",
       " 'whitman-leaves.txt']"
      ]
     },
     "execution_count": 2,
     "metadata": {},
     "output_type": "execute_result"
    }
   ],
   "execution_count": 2
  },
  {
   "cell_type": "code",
   "execution_count": 3,
   "id": "e1d9b5fbf6c634bb",
   "metadata": {
    "ExecuteTime": {
     "end_time": "2024-08-09T10:59:00.350665Z",
     "start_time": "2024-08-09T10:59:00.170904Z"
    }
   },
   "outputs": [
    {
     "data": {
      "text/plain": [
       "192427"
      ]
     },
     "execution_count": 3,
     "metadata": {},
     "output_type": "execute_result"
    }
   ],
   "source": [
    "emma=nltk.corpus.gutenberg.words('austen-emma.txt')\n",
    "len(emma)"
   ]
  },
  {
   "cell_type": "code",
   "execution_count": 4,
   "id": "cfdfc9321fd97afe",
   "metadata": {
    "ExecuteTime": {
     "end_time": "2024-08-09T11:01:19.133194Z",
     "start_time": "2024-08-09T11:01:18.874485Z"
    }
   },
   "outputs": [
    {
     "name": "stdout",
     "output_type": "stream",
     "text": [
      "Displaying 25 of 37 matches:\n",
      "er father , was sometimes taken by surprize at his being still able to pity ` \n",
      "hem do the other any good .\" \" You surprize me ! Emma must do Harriet good : a\n",
      "Knightley actually looked red with surprize and displeasure , as he stood up ,\n",
      "r . Elton , and found to his great surprize , that Mr . Elton was actually on \n",
      "d aid .\" Emma saw Mrs . Weston ' s surprize , and felt that it must be great ,\n",
      "father was quite taken up with the surprize of so sudden a journey , and his f\n",
      "y , in all the favouring warmth of surprize and conjecture . She was , moreove\n",
      "he appeared , to have her share of surprize , introduction , and pleasure . Th\n",
      "ir plans ; and it was an agreeable surprize to her , therefore , to perceive t\n",
      "talking aunt had taken me quite by surprize , it must have been the death of m\n",
      "f all the dialogue which ensued of surprize , and inquiry , and congratulation\n",
      " the present . They might chuse to surprize her .\" Mrs . Cole had many to agre\n",
      "the mode of it , the mystery , the surprize , is more like a young woman ' s s\n",
      " to her song took her agreeably by surprize -- a second , slightly but correct\n",
      "\" \" Oh ! no -- there is nothing to surprize one at all .-- A pretty fortune ; \n",
      "t to be considered . Emma ' s only surprize was that Jane Fairfax should accep\n",
      "of your admiration may take you by surprize some day or other .\" Mr . Knightle\n",
      "ation for her will ever take me by surprize .-- I never had a thought of her i\n",
      " expected by the best judges , for surprize -- but there was great joy . Mr . \n",
      " sound of at first , without great surprize . \" So unreasonably early !\" she w\n",
      "d Frank Churchill , with a look of surprize and displeasure .-- \" That is easy\n",
      "; and Emma could imagine with what surprize and mortification she must be retu\n",
      "tled that Jane should go . Quite a surprize to me ! I had not the least idea !\n",
      " . It is impossible to express our surprize . He came to speak to his father o\n",
      "g engaged !\" Emma even jumped with surprize ;-- and , horror - struck , exclai\n"
     ]
    }
   ],
   "source": [
    "nltk.Text(emma).concordance(\"surprize\")"
   ]
  },
  {
   "cell_type": "markdown",
   "id": "968952f56a6e87f6",
   "metadata": {},
   "source": [
    "Loading Your Own Corpus "
   ]
  },
  {
   "cell_type": "markdown",
   "id": "88d4e1fe6b91ecb6",
   "metadata": {},
   "source": [
    "first way:\n"
   ]
  },
  {
   "cell_type": "code",
   "execution_count": 5,
   "id": "c787b2c5570c46c0",
   "metadata": {
    "ExecuteTime": {
     "end_time": "2024-08-09T11:17:36.215723Z",
     "start_time": "2024-08-09T11:17:36.207346Z"
    }
   },
   "outputs": [],
   "source": [
    "from nltk.corpus import PlaintextCorpusReader\n",
    "root=\"C:/Users/ASUS/Desktop/nlp/texts\"\n",
    "worldlists=PlaintextCorpusReader(root,\".*\")"
   ]
  },
  {
   "cell_type": "code",
   "execution_count": 6,
   "id": "a6f788b0d37ae282",
   "metadata": {
    "ExecuteTime": {
     "end_time": "2024-08-09T11:17:38.484351Z",
     "start_time": "2024-08-09T11:17:38.475615Z"
    }
   },
   "outputs": [
    {
     "data": {
      "text/plain": [
       "['Corona_NLP_test.xls']"
      ]
     },
     "execution_count": 6,
     "metadata": {},
     "output_type": "execute_result"
    }
   ],
   "source": [
    "worldlists.fileids()"
   ]
  },
  {
   "cell_type": "code",
   "execution_count": 7,
   "id": "1bd5cfe587873245",
   "metadata": {
    "ExecuteTime": {
     "end_time": "2024-08-09T11:18:43.191134Z",
     "start_time": "2024-08-09T11:18:43.180064Z"
    }
   },
   "outputs": [
    {
     "data": {
      "text/plain": [
       "['UserName', ',', 'ScreenName', ',', 'Location', ',', ...]"
      ]
     },
     "execution_count": 7,
     "metadata": {},
     "output_type": "execute_result"
    }
   ],
   "source": [
    "worldlists.words(\"Corona_NLP_test.xls\")"
   ]
  },
  {
   "cell_type": "markdown",
   "id": "b9ef343111af0775",
   "metadata": {},
   "source": [
    "Second way:"
   ]
  },
  {
   "cell_type": "markdown",
   "id": "9739d1cad7d7ce74",
   "metadata": {},
   "source": [
    ">>> from nltk.corpus import BracketParseCorpusReader\n",
    ">>> corpus_root = r\"C:\\corpora\\penntreebank\\parsed\\mrg\\wsj\"\n",
    ">>> file_pattern = r\".*/wsj_.*\\.mrg\"\n",
    ">>> ptb = BracketParseCorpusReader(corpus_root, file_pattern)\n",
    ">>> ptb.fileids()\n",
    "['00/wsj_0001.mrg', '00/wsj_0002.mrg', '00/wsj_0003.mrg', '00/wsj_0004.mrg', ...]\n",
    ">>> len(ptb.sents())\n",
    "49208\n",
    ">>> ptb.sents(fileids='20/wsj_2013.mrg')[19]\n",
    "['The', '55-year-old', 'Mr.', 'Noriega', 'is', \"n't\", 'as', 'smooth', 'as', 'the',\n",
    "'shah', 'of', 'Iran', ',', 'as', 'well-born', 'as', 'Nicaragua', \"'s\", 'Anastasio',\n",
    "'Somoza', ',', 'as', 'imperial', 'as', 'Ferdinand', 'Marcos', 'of', 'the', 'Philippines',\n",
    "'or', 'as', 'bloody', 'as', 'Haiti', \"'s\", 'Baby', Doc', 'Duvalier', '.']"
   ]
  },
  {
   "cell_type": "markdown",
   "id": "7e8cc910c63a798d",
   "metadata": {},
   "source": []
  }
 ],
 "metadata": {
  "kernelspec": {
   "display_name": "Python 3",
   "language": "python",
   "name": "python3"
  },
  "language_info": {
   "codemirror_mode": {
    "name": "ipython",
    "version": 3
   },
   "file_extension": ".py",
   "mimetype": "text/x-python",
   "name": "python",
   "nbconvert_exporter": "python",
   "pygments_lexer": "ipython3",
   "version": "3.11.4"
  }
 },
 "nbformat": 4,
 "nbformat_minor": 5
}
